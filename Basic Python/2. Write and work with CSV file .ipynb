{
 "cells": [
  {
   "cell_type": "code",
   "execution_count": 1,
   "metadata": {},
   "outputs": [],
   "source": [
    "import csv\n",
    "newfile = open('newfile.csv','x')\n",
    "newfile.close()"
   ]
  },
  {
   "cell_type": "code",
   "execution_count": 3,
   "metadata": {},
   "outputs": [],
   "source": [
    "newfile = open('newfile.csv','w',newline='')\n",
    "nfilewriter = csv.writer(newfile)\n",
    "nfilewriter.writerow(['Dipto','AI','100'])\n",
    "nfilewriter.writerow(['Prodipto','Web','100'])\n",
    "nfilewriter.writerow(['Roy','Simulation','100'])\n",
    "newfile.close()"
   ]
  },
  {
   "cell_type": "code",
   "execution_count": 4,
   "metadata": {},
   "outputs": [
    {
     "name": "stdout",
     "output_type": "stream",
     "text": [
      "Dipto,AI,100\n",
      "Prodipto,Web,100\n",
      "Roy,Simulation,100\n",
      "\n"
     ]
    }
   ],
   "source": [
    "newfile = open('newfile.csv','r')\n",
    "view = newfile.read()\n",
    "print(view)\n",
    "newfile.close()"
   ]
  }
 ],
 "metadata": {
  "kernelspec": {
   "display_name": "Python 3",
   "language": "python",
   "name": "python3"
  },
  "language_info": {
   "codemirror_mode": {
    "name": "ipython",
    "version": 3
   },
   "file_extension": ".py",
   "mimetype": "text/x-python",
   "name": "python",
   "nbconvert_exporter": "python",
   "pygments_lexer": "ipython3",
   "version": "3.8.1"
  }
 },
 "nbformat": 4,
 "nbformat_minor": 4
}
