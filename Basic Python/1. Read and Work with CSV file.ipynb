{
 "cells": [
  {
   "cell_type": "code",
   "execution_count": 1,
   "metadata": {},
   "outputs": [
    {
     "name": "stdout",
     "output_type": "stream",
     "text": [
      "['Name', 'Gender', 'Age']\n",
      "Name\n",
      "['Dipto', 'Male', '25']\n",
      "Dipto\n",
      "['Prodipto', 'Male', '24']\n",
      "Prodipto\n",
      "['Jane', 'Female', '23']\n",
      "Jane\n"
     ]
    }
   ],
   "source": [
    "import csv\n",
    "with open ('name.csv') as csvfile:\n",
    "    readcsv = csv.reader(csvfile, delimiter=',')\n",
    "    for row in readcsv:\n",
    "        print(row)\n",
    "        print(row[0])"
   ]
  },
  {
   "cell_type": "code",
   "execution_count": 4,
   "metadata": {},
   "outputs": [
    {
     "name": "stdout",
     "output_type": "stream",
     "text": [
      "Jane Female\n"
     ]
    }
   ],
   "source": [
    "print(row[0],row[1])"
   ]
  },
  {
   "cell_type": "code",
   "execution_count": 31,
   "metadata": {},
   "outputs": [
    {
     "name": "stdout",
     "output_type": "stream",
     "text": [
      "[['Name', 'Gender', 'Age'], ['Dipto', 'Male', '25'], ['Prodipto', 'Male', '24'], ['Jane', 'Female', '23']]\n"
     ]
    }
   ],
   "source": [
    "import csv\n",
    "with open ('name.csv') as csvfile:\n",
    "    readcsv = csv.reader(csvfile, delimiter=',')\n",
    "    readdata = list(readcsv)\n",
    "    print(readdata)"
   ]
  },
  {
   "cell_type": "code",
   "execution_count": 32,
   "metadata": {},
   "outputs": [
    {
     "name": "stdout",
     "output_type": "stream",
     "text": [
      "Name\n"
     ]
    }
   ],
   "source": [
    "print(readdata[0][0])"
   ]
  },
  {
   "cell_type": "code",
   "execution_count": 36,
   "metadata": {},
   "outputs": [
    {
     "name": "stdout",
     "output_type": "stream",
     "text": [
      "['Age']\n",
      "['Age', '25']\n",
      "['Age', '25', '24']\n",
      "['Age', '25', '24', '23']\n",
      "Enter a name: Jane\n",
      "Age=  23\n"
     ]
    }
   ],
   "source": [
    "import csv\n",
    "with open ('name.csv') as csvfile:\n",
    "    readcsv = csv.reader(csvfile, delimiter=',')\n",
    "    names=[]\n",
    "    ages=[]\n",
    "    for row in readcsv:\n",
    "        name=row[0]\n",
    "        age=row[2]\n",
    "        #print(gender)\n",
    "        names.append(name)\n",
    "        ages.append(age)\n",
    "        print(ages)\n",
    "    name = input(\"Enter a name: \")\n",
    "    namedex = names.index(name)\n",
    "    theage = ages[namedex]\n",
    "    print('Age= ',theage)       "
   ]
  }
 ],
 "metadata": {
  "kernelspec": {
   "display_name": "Python 3",
   "language": "python",
   "name": "python3"
  },
  "language_info": {
   "codemirror_mode": {
    "name": "ipython",
    "version": 3
   },
   "file_extension": ".py",
   "mimetype": "text/x-python",
   "name": "python",
   "nbconvert_exporter": "python",
   "pygments_lexer": "ipython3",
   "version": "3.8.1"
  }
 },
 "nbformat": 4,
 "nbformat_minor": 4
}
